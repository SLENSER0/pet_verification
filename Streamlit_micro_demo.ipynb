{
 "cells": [
  {
   "cell_type": "code",
   "execution_count": null,
   "metadata": {},
   "outputs": [],
   "source": [
    "import clip\n",
    "import os\n",
    "import json\n",
    "import torch\n",
    "import streamlit as st\n",
    "import torchvision.transforms as transforms\n",
    "from PIL import Image\n",
    "from torchvision.models import resnet50, ResNet50_Weights\n",
    "from torch.nn.functional import cosine_similarity\n",
    "from geopy.distance import geodesic\n",
    "import folium\n",
    "from streamlit_folium import st_folium\n",
    "from base64 import b64encode"
   ]
  },
  {
   "cell_type": "markdown",
   "metadata": {},
   "source": [
    "# Запуск streamlit локально"
   ]
  },
  {
   "cell_type": "code",
   "execution_count": null,
   "metadata": {},
   "outputs": [],
   "source": [
    "!streamlit run /Users/lolovolkova/Desktop/pet_app_airi/small_test.py --server.maxMessageSize 1000 # эту команду также можно запустить через терминал\n",
    " # ссылка на скачивание датасета https://drive.google.com/drive/folders/1AjLgT27yg3Ffo31e2n0qvOj1aASt0fMb?usp=sharing"
    "# поменяйте путь к скрипту для стримлита, подпись --server.maxMessageSize 1000 нужна для увеличения объема хранения данных на сайте (вместо дефолтных 200 МБ - чтобы сайт не падал с ошибкой) "
   ]
  },
  {
   "cell_type": "markdown",
   "metadata": {},
   "source": [
    "### Добавим немного метрик для сравнения базовых предобученных моделей "
   ]
  },
  {
   "cell_type": "code",
   "execution_count": 4,
   "metadata": {},
   "outputs": [
    {
     "name": "stderr",
     "output_type": "stream",
     "text": [
      "/Library/Frameworks/Python.framework/Versions/3.13/lib/python3.13/site-packages/torchvision/models/_utils.py:208: UserWarning: The parameter 'pretrained' is deprecated since 0.13 and may be removed in the future, please use 'weights' instead.\n",
      "  warnings.warn(\n",
      "/Library/Frameworks/Python.framework/Versions/3.13/lib/python3.13/site-packages/torchvision/models/_utils.py:223: UserWarning: Arguments other than a weight enum or `None` for 'weights' are deprecated since 0.13 and may be removed in the future. The current behavior is equivalent to passing `weights=ResNet50_Weights.IMAGENET1K_V1`. You can also use `weights=ResNet50_Weights.DEFAULT` to get the most up-to-date weights.\n",
      "  warnings.warn(msg)\n",
      "Extracting embeddings: 100%|██████████| 44/44 [01:49<00:00,  2.48s/it]\n",
      "Building pairs: 100%|██████████| 1379/1379 [02:38<00:00,  8.71it/s] \n"
     ]
    },
    {
     "name": "stdout",
     "output_type": "stream",
     "text": [
      "Equal Error Rate (EER): 0.1547\n"
     ]
    }
   ],
   "source": [
    "import os\n",
    "import torch\n",
    "import torchvision.transforms as transforms\n",
    "from torchvision.models import resnet50\n",
    "from torchvision.datasets import ImageFolder\n",
    "from torch.utils.data import DataLoader\n",
    "from sklearn.metrics.pairwise import cosine_similarity\n",
    "from sklearn.metrics import roc_curve\n",
    "import numpy as np\n",
    "from tqdm import tqdm\n",
    "import matplotlib.pyplot as plt\n",
    "\n",
    "# === НАСТРОЙКИ ===\n",
    "DATASET_DIR = \"/Users/lolovolkova/Desktop/pet_app_airi/id_pets\" # путь к собранной нами базе данных (размеченной - есть на диске)\n",
    "BATCH_SIZE = 32\n",
    "IMAGE_SIZE = 224\n",
    "DEVICE = torch.device(\"mps\" if torch.backends.mps.is_available() else \"cpu\")\n",
    "\n",
    "# === ПРЕОБРАЗОВАНИЯ ===\n",
    "transform = transforms.Compose([\n",
    "    transforms.Resize((IMAGE_SIZE, IMAGE_SIZE)),\n",
    "    transforms.ToTensor(),\n",
    "    transforms.Normalize(mean=[0.485, 0.456, 0.406],\n",
    "                         std=[0.229, 0.224, 0.225])\n",
    "])\n",
    "\n",
    "# === МОДЕЛЬ RESNET-50 ===\n",
    "model = resnet50(pretrained=True)\n",
    "model = torch.nn.Sequential(*list(model.children())[:-1])  # remove classifier\n",
    "model.eval().to(DEVICE)\n",
    "\n",
    "# === ЗАГРУЗКА ДАННЫХ ===\n",
    "dataset = ImageFolder(DATASET_DIR, transform=transform)\n",
    "loader = DataLoader(dataset, batch_size=BATCH_SIZE, shuffle=False)\n",
    "\n",
    "# Сопоставление: индекс -> имя питомца\n",
    "idx_to_class = {v: k for k, v in dataset.class_to_idx.items()}\n",
    "\n",
    "# === ЭКСТРАКТ ЭМБЕДДИНГОВ ===\n",
    "embeddings = []\n",
    "labels = []\n",
    "\n",
    "with torch.no_grad():\n",
    "    for images, targets in tqdm(loader, desc=\"Extracting embeddings\"):\n",
    "        images = images.to(DEVICE)\n",
    "        feats = model(images).squeeze()\n",
    "        embeddings.append(feats.cpu())\n",
    "        labels.extend(targets.cpu().tolist())\n",
    "\n",
    "embeddings = torch.cat(embeddings).numpy()\n",
    "labels = np.array(labels)\n",
    "\n",
    "# === СОЗДАНИЕ ПАР (TARGET и IMPOSTER) ===\n",
    "def build_pairs(embeddings, labels):\n",
    "    genuine_scores = []\n",
    "    imposter_scores = []\n",
    "    n = len(embeddings)\n",
    "\n",
    "    for i in tqdm(range(n), desc=\"Building pairs\"):\n",
    "        for j in range(i + 1, n):\n",
    "            sim = cosine_similarity([embeddings[i]], [embeddings[j]])[0][0]\n",
    "            if labels[i] == labels[j]:\n",
    "                genuine_scores.append(sim)\n",
    "            else:\n",
    "                imposter_scores.append(sim)\n",
    "    return np.array(genuine_scores), np.array(imposter_scores)\n",
    "\n",
    "genuine_scores, imposter_scores = build_pairs(embeddings, labels)\n",
    "\n",
    "# === РАСЧЁТ FAR, FRR, EER ===\n",
    "y_true = np.concatenate([np.ones_like(genuine_scores), np.zeros_like(imposter_scores)])\n",
    "y_scores = np.concatenate([genuine_scores, imposter_scores])\n",
    "\n",
    "fpr, tpr, thresholds = roc_curve(y_true, y_scores)\n",
    "fnr = 1 - tpr\n",
    "eer_threshold = thresholds[np.nanargmin(np.absolute(fnr - fpr))]\n",
    "eer = fpr[np.nanargmin(np.absolute(fnr - fpr))]\n",
    "\n",
    "# === ПЕЧАТЬ РЕЗУЛЬТАТОВ ===\n",
    "print(f\"Equal Error Rate (EER): {eer:.4f}\")\n"
   ]
  },
  {
   "cell_type": "code",
   "execution_count": 5,
   "metadata": {},
   "outputs": [
    {
     "name": "stderr",
     "output_type": "stream",
     "text": [
      "Extracting embeddings with CLIP: 100%|██████████| 44/44 [02:14<00:00,  3.05s/it]\n",
      "Building pairs: 100%|██████████| 1379/1379 [02:32<00:00,  9.06it/s] \n"
     ]
    },
    {
     "name": "stdout",
     "output_type": "stream",
     "text": [
      "Equal Error Rate (EER): 0.1551\n"
     ]
    }
   ],
   "source": [
    "import os\n",
    "import torch\n",
    "import clip\n",
    "from PIL import Image\n",
    "from torchvision.datasets import ImageFolder\n",
    "from torch.utils.data import DataLoader\n",
    "from sklearn.metrics.pairwise import cosine_similarity\n",
    "from sklearn.metrics import roc_curve\n",
    "import numpy as np\n",
    "from tqdm import tqdm\n",
    "import matplotlib.pyplot as plt\n",
    "\n",
    "# === НАСТРОЙКИ ===\n",
    "DATASET_DIR = \"/Users/lolovolkova/Desktop/pet_app_airi/id_pets\" # путь к собранной нами базе данных (размеченной - есть на диске)\n",
    "BATCH_SIZE = 32\n",
    "DEVICE = torch.device(\"mps\" if torch.backends.mps.is_available() else \"cpu\")\n",
    "\n",
    "# === ЗАГРУЗКА МОДЕЛИ CLIP ===\n",
    "model, preprocess = clip.load(\"ViT-B/32\", device=DEVICE)\n",
    "model.eval()\n",
    "\n",
    "# === ЗАГРУЗКА ДАННЫХ ===\n",
    "dataset = ImageFolder(DATASET_DIR, transform=preprocess)\n",
    "loader = DataLoader(dataset, batch_size=BATCH_SIZE, shuffle=False)\n",
    "\n",
    "# Сопоставление: индекс -> имя питомца\n",
    "idx_to_class = {v: k for k, v in dataset.class_to_idx.items()}\n",
    "\n",
    "# === ЭКСТРАКТ ЭМБЕДДИНГОВ ===\n",
    "embeddings = []\n",
    "labels = []\n",
    "\n",
    "with torch.no_grad():\n",
    "    for images, targets in tqdm(loader, desc=\"Extracting embeddings with CLIP\"):\n",
    "        images = images.to(DEVICE)\n",
    "        feats = model.encode_image(images)\n",
    "        feats /= feats.norm(dim=-1, keepdim=True)  # нормализация\n",
    "        embeddings.append(feats.cpu())\n",
    "        labels.extend(targets.cpu().tolist())\n",
    "\n",
    "embeddings = torch.cat(embeddings).numpy()\n",
    "labels = np.array(labels)\n",
    "\n",
    "# === СОЗДАНИЕ ПАР (Genuine / Imposter) ===\n",
    "def build_pairs(embeddings, labels):\n",
    "    genuine_scores = []\n",
    "    imposter_scores = []\n",
    "    n = len(embeddings)\n",
    "\n",
    "    for i in tqdm(range(n), desc=\"Building pairs\"):\n",
    "        for j in range(i + 1, n):\n",
    "            sim = cosine_similarity([embeddings[i]], [embeddings[j]])[0][0]\n",
    "            if labels[i] == labels[j]:\n",
    "                genuine_scores.append(sim)\n",
    "            else:\n",
    "                imposter_scores.append(sim)\n",
    "    return np.array(genuine_scores), np.array(imposter_scores)\n",
    "\n",
    "genuine_scores, imposter_scores = build_pairs(embeddings, labels)\n",
    "\n",
    "# === РАСЧЁТ FAR, FRR, EER ===\n",
    "y_true = np.concatenate([np.ones_like(genuine_scores), np.zeros_like(imposter_scores)])\n",
    "y_scores = np.concatenate([genuine_scores, imposter_scores])\n",
    "\n",
    "fpr, tpr, thresholds = roc_curve(y_true, y_scores)\n",
    "fnr = 1 - tpr\n",
    "eer_threshold = thresholds[np.nanargmin(np.absolute(fnr - fpr))]\n",
    "eer = fpr[np.nanargmin(np.absolute(fnr - fpr))]\n",
    "\n",
    "# === ПЕЧАТЬ РЕЗУЛЬТАТОВ ===\n",
    "print(f\"Equal Error Rate (EER): {eer:.4f}\")\n"
   ]
  },
  {
   "cell_type": "code",
   "execution_count": null,
   "metadata": {},
   "outputs": [],
   "source": []
  }
 ],
 "metadata": {
  "kernelspec": {
   "display_name": "Python 3",
   "language": "python",
   "name": "python3"
  },
  "language_info": {
   "codemirror_mode": {
    "name": "ipython",
    "version": 3
   },
   "file_extension": ".py",
   "mimetype": "text/x-python",
   "name": "python",
   "nbconvert_exporter": "python",
   "pygments_lexer": "ipython3",
   "version": "3.13.0"
  }
 },
 "nbformat": 4,
 "nbformat_minor": 2
}
